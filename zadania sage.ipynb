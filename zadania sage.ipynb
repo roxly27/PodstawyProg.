{
 "cells": [
  {
   "cell_type": "markdown",
   "id": "3c26d2f5",
   "metadata": {},
   "source": [
    "# Zadanie 1"
   ]
  },
  {
   "cell_type": "raw",
   "id": "1fbcf2da",
   "metadata": {},
   "source": [
    "Znajdź wszystkie pierwiastki tego równania: z^4+z^3+z^2+z+1=0."
   ]
  },
  {
   "cell_type": "code",
   "execution_count": 133,
   "id": "91f3deed",
   "metadata": {},
   "outputs": [],
   "source": [
    "from sympy import symbols, solve"
   ]
  },
  {
   "cell_type": "code",
   "execution_count": 134,
   "id": "1f6c83b2",
   "metadata": {},
   "outputs": [],
   "source": [
    "z = var('z')"
   ]
  },
  {
   "cell_type": "code",
   "execution_count": 135,
   "id": "ed3e3214",
   "metadata": {},
   "outputs": [],
   "source": [
    "x = z**4 + z**3 + z**2 + z + 1"
   ]
  },
  {
   "cell_type": "code",
   "execution_count": 136,
   "id": "fe5c21fc",
   "metadata": {},
   "outputs": [],
   "source": [
    "pierwiastki = solve(x, z)"
   ]
  },
  {
   "cell_type": "code",
   "execution_count": 137,
   "id": "0b37301d",
   "metadata": {},
   "outputs": [
    {
     "data": {
      "text/html": [
       "<html>\\[\\newcommand{\\Bold}[1]{\\mathbf{#1}}\\left[\\verb|-1/4|\\verb| |\\verb|+|\\verb| |\\verb|sqrt(5)/4|\\verb| |\\verb|-|\\verb| |\\verb|I*sqrt(sqrt(5)/8|\\verb| |\\verb|+|\\verb| |\\verb|5/8)|, \\verb|-1/4|\\verb| |\\verb|+|\\verb| |\\verb|sqrt(5)/4|\\verb| |\\verb|+|\\verb| |\\verb|I*sqrt(sqrt(5)/8|\\verb| |\\verb|+|\\verb| |\\verb|5/8)|, \\verb|-sqrt(5)/4|\\verb| |\\verb|-|\\verb| |\\verb|1/4|\\verb| |\\verb|-|\\verb| |\\verb|I*sqrt(5/8|\\verb| |\\verb|-|\\verb| |\\verb|sqrt(5)/8)|, \\verb|-sqrt(5)/4|\\verb| |\\verb|-|\\verb| |\\verb|1/4|\\verb| |\\verb|+|\\verb| |\\verb|I*sqrt(5/8|\\verb| |\\verb|-|\\verb| |\\verb|sqrt(5)/8)|\\right]\\]</html>"
      ],
      "text/latex": [
       "$$\\newcommand{\\Bold}[1]{\\mathbf{#1}}\\left[\\verb|-1/4|\\verb| |\\verb|+|\\verb| |\\verb|sqrt(5)/4|\\verb| |\\verb|-|\\verb| |\\verb|I*sqrt(sqrt(5)/8|\\verb| |\\verb|+|\\verb| |\\verb|5/8)|, \\verb|-1/4|\\verb| |\\verb|+|\\verb| |\\verb|sqrt(5)/4|\\verb| |\\verb|+|\\verb| |\\verb|I*sqrt(sqrt(5)/8|\\verb| |\\verb|+|\\verb| |\\verb|5/8)|, \\verb|-sqrt(5)/4|\\verb| |\\verb|-|\\verb| |\\verb|1/4|\\verb| |\\verb|-|\\verb| |\\verb|I*sqrt(5/8|\\verb| |\\verb|-|\\verb| |\\verb|sqrt(5)/8)|, \\verb|-sqrt(5)/4|\\verb| |\\verb|-|\\verb| |\\verb|1/4|\\verb| |\\verb|+|\\verb| |\\verb|I*sqrt(5/8|\\verb| |\\verb|-|\\verb| |\\verb|sqrt(5)/8)|\\right]$$"
      ],
      "text/plain": [
       "[-1/4 + sqrt(5)/4 - I*sqrt(sqrt(5)/8 + 5/8),\n",
       " -1/4 + sqrt(5)/4 + I*sqrt(sqrt(5)/8 + 5/8),\n",
       " -sqrt(5)/4 - 1/4 - I*sqrt(5/8 - sqrt(5)/8),\n",
       " -sqrt(5)/4 - 1/4 + I*sqrt(5/8 - sqrt(5)/8)]"
      ]
     },
     "metadata": {},
     "output_type": "display_data"
    }
   ],
   "source": [
    "show(pierwiastki)"
   ]
  },
  {
   "cell_type": "markdown",
   "id": "96ac1fc0",
   "metadata": {},
   "source": [
    "# Zadanie 2 "
   ]
  },
  {
   "cell_type": "raw",
   "id": "52a19c1c",
   "metadata": {},
   "source": [
    "Napisz równanie stycznej do wykresu funkcji f(x)=x^2-3 w punkcie x0 = 2."
   ]
  },
  {
   "cell_type": "code",
   "execution_count": 138,
   "id": "a2c7c439",
   "metadata": {},
   "outputs": [],
   "source": [
    "from sympy import symbols"
   ]
  },
  {
   "cell_type": "code",
   "execution_count": 139,
   "id": "c4e80eca",
   "metadata": {},
   "outputs": [],
   "source": [
    "x, y = symbols('x y')"
   ]
  },
  {
   "cell_type": "code",
   "execution_count": 140,
   "id": "61ac1ae2",
   "metadata": {},
   "outputs": [],
   "source": [
    "f = x**2 - 3"
   ]
  },
  {
   "cell_type": "code",
   "execution_count": 141,
   "id": "02fa906b",
   "metadata": {},
   "outputs": [],
   "source": [
    "x0 = 2"
   ]
  },
  {
   "cell_type": "code",
   "execution_count": 142,
   "id": "05a9e2ee",
   "metadata": {},
   "outputs": [],
   "source": [
    "m = f.diff(x).subs(x, x0)"
   ]
  },
  {
   "cell_type": "code",
   "execution_count": 143,
   "id": "87ba3f10",
   "metadata": {},
   "outputs": [],
   "source": [
    "y0 = f.subs(x, x0)"
   ]
  },
  {
   "cell_type": "code",
   "execution_count": 144,
   "id": "c0d19242",
   "metadata": {},
   "outputs": [],
   "source": [
    "równanie = y - y0 - m*(x - x0)"
   ]
  },
  {
   "cell_type": "code",
   "execution_count": 145,
   "id": "4db6f77a",
   "metadata": {},
   "outputs": [
    {
     "data": {
      "text/latex": [
       "$\\displaystyle - 4 x + y + 7$"
      ],
      "text/plain": [
       "-4*x + y + 7"
      ]
     },
     "execution_count": 145,
     "metadata": {},
     "output_type": "execute_result"
    }
   ],
   "source": [
    "równanie"
   ]
  },
  {
   "cell_type": "markdown",
   "id": "694cf78f",
   "metadata": {},
   "source": [
    "# Zadanie 3"
   ]
  },
  {
   "cell_type": "raw",
   "id": "d0d6bde7",
   "metadata": {},
   "source": [
    "Rozwiąż podany układ równań za pomocą macierzy: \n",
    "x + 2y - 3z = 4\n",
    "2x - 4y + 6z = 8\n",
    "-x + y - 2z = 1"
   ]
  },
  {
   "cell_type": "code",
   "execution_count": 146,
   "id": "af6e73f2",
   "metadata": {},
   "outputs": [],
   "source": [
    "A = matrix([[1, 2, -3], [2, -4, 6], [-1, 1, -2]])"
   ]
  },
  {
   "cell_type": "code",
   "execution_count": 147,
   "id": "0f842125",
   "metadata": {},
   "outputs": [],
   "source": [
    "b = matrix([[4], [8], [1]])"
   ]
  },
  {
   "cell_type": "code",
   "execution_count": 148,
   "id": "2333954c",
   "metadata": {},
   "outputs": [],
   "source": [
    "from sympy import solve"
   ]
  },
  {
   "cell_type": "code",
   "execution_count": 149,
   "id": "198924d0",
   "metadata": {},
   "outputs": [],
   "source": [
    "x, y, z = var('x, y, z')"
   ]
  },
  {
   "cell_type": "code",
   "execution_count": 150,
   "id": "d7607dbf",
   "metadata": {},
   "outputs": [],
   "source": [
    "wynik = solve([x + 2*y - 3*z - 4, 2*x - 4*y + 6*z - 8, -x + y - 2*z - 1], x, y, z)"
   ]
  },
  {
   "cell_type": "code",
   "execution_count": 151,
   "id": "6769bf4c",
   "metadata": {},
   "outputs": [
    {
     "data": {
      "text/html": [
       "<html>\\[\\newcommand{\\Bold}[1]{\\mathbf{#1}}\\left\\{\\verb|x| : 4, \\verb|y| : -15, \\verb|z| : -10\\right\\}\\]</html>"
      ],
      "text/latex": [
       "$$\\newcommand{\\Bold}[1]{\\mathbf{#1}}\\left\\{\\verb|x| : 4, \\verb|y| : -15, \\verb|z| : -10\\right\\}$$"
      ],
      "text/plain": [
       "{x: 4, y: -15, z: -10}"
      ]
     },
     "metadata": {},
     "output_type": "display_data"
    }
   ],
   "source": [
    "show(wynik)"
   ]
  },
  {
   "cell_type": "markdown",
   "id": "7f434eca",
   "metadata": {},
   "source": [
    "# Zadanie 4 "
   ]
  },
  {
   "cell_type": "raw",
   "id": "74ccb156",
   "metadata": {},
   "source": [
    "Rozwiąż pochodną f(x) = 3*arctg(x) - cos(x)"
   ]
  },
  {
   "cell_type": "code",
   "execution_count": 152,
   "id": "2fa87f93",
   "metadata": {},
   "outputs": [],
   "source": [
    "x = var('x')"
   ]
  },
  {
   "cell_type": "code",
   "execution_count": 153,
   "id": "4d8f16a3",
   "metadata": {},
   "outputs": [],
   "source": [
    "f = 3 * arctan(x) - cos(x)"
   ]
  },
  {
   "cell_type": "code",
   "execution_count": 154,
   "id": "6100be49",
   "metadata": {},
   "outputs": [],
   "source": [
    "pochodna = diff(f, x)"
   ]
  },
  {
   "cell_type": "code",
   "execution_count": 155,
   "id": "55715714",
   "metadata": {},
   "outputs": [
    {
     "name": "stdout",
     "output_type": "stream",
     "text": [
      "3/(x^2 + 1) + sin(x)\n"
     ]
    }
   ],
   "source": [
    "print(pochodna)"
   ]
  },
  {
   "cell_type": "markdown",
   "id": "acb81704",
   "metadata": {},
   "source": [
    "# Zadanie 5"
   ]
  },
  {
   "cell_type": "raw",
   "id": "88765b09",
   "metadata": {},
   "source": [
    "Narysuj wykres funkcji x**4 + 1."
   ]
  },
  {
   "cell_type": "code",
   "execution_count": 156,
   "id": "52acfee9",
   "metadata": {},
   "outputs": [],
   "source": [
    "x = np.linspace(-10, 10, 100)"
   ]
  },
  {
   "cell_type": "code",
   "execution_count": 157,
   "id": "6f713708",
   "metadata": {},
   "outputs": [],
   "source": [
    "y = x**4 + 1 "
   ]
  },
  {
   "cell_type": "code",
   "execution_count": 158,
   "id": "81be6ad4",
   "metadata": {},
   "outputs": [
    {
     "data": {
      "text/plain": [
       "[<matplotlib.lines.Line2D object at 0x17ac5dcd0>]"
      ]
     },
     "execution_count": 158,
     "metadata": {},
     "output_type": "execute_result"
    },
    {
     "data": {
      "image/png": "[encoded data removed]",
      "text/plain": [
       "<Figure size 432x288 with 1 Axes>"
      ]
     },
     "metadata": {
      "needs_background": "light"
     },
     "output_type": "display_data"
    }
   ],
   "source": [
    "plt.plot(x, y)"
   ]
  },
  {
   "cell_type": "code",
   "execution_count": null,
   "id": "08df18e4",
   "metadata": {},
   "outputs": [],
   "source": []
  }
 ],
 "metadata": {
  "kernelspec": {
   "display_name": "SageMath 9.5",
   "language": "sage",
   "name": "sagemath-9.5"
  },
  "language_info": {
   "codemirror_mode": {
    "name": "ipython",
    "version": 3
   },
   "file_extension": ".py",
   "mimetype": "text/x-python",
   "name": "python",
   "nbconvert_exporter": "python",
   "pygments_lexer": "ipython3",
   "version": "3.9.9"
  }
 },
 "nbformat": 4,
 "nbformat_minor": 5
}
